{
  "nbformat": 4,
  "nbformat_minor": 0,
  "metadata": {
    "colab": {
      "private_outputs": true,
      "provenance": [],
      "authorship_tag": "ABX9TyOPp3hQkMY6IGHB5f2+XLME",
      "include_colab_link": true
    },
    "kernelspec": {
      "name": "python3",
      "display_name": "Python 3"
    },
    "language_info": {
      "name": "python"
    },
    "accelerator": "GPU",
    "gpuClass": "standard"
  },
  "cells": [
    {
      "cell_type": "markdown",
      "metadata": {
        "id": "view-in-github",
        "colab_type": "text"
      },
      "source": [
        "<a href=\"https://colab.research.google.com/github/ManbirSinghRakhra/PyTorchFundamentals/blob/main/00_PyTorch_Fundamental.ipynb\" target=\"_parent\"><img src=\"https://colab.research.google.com/assets/colab-badge.svg\" alt=\"Open In Colab\"/></a>"
      ]
    },
    {
      "cell_type": "markdown",
      "source": [
        "## 00. PyTorch Funddaments\n",
        "### Resource notebook: https://www.learnpytorch.io/00_pytorch_fundamentals\n",
        "###If you have a question: https://github.com/mrdbourke/pytorch-deep-learning/discussions"
      ],
      "metadata": {
        "id": "OaUwm3z9STqQ"
      }
    },
    {
      "cell_type": "code",
      "source": [
        "import torch\n",
        "import pandas as pd\n",
        "import numpy as np\n",
        "import matplotlib.pyplot as plt\n",
        "print(torch.__version__)"
      ],
      "metadata": {
        "id": "0Dc0tbvnTTza"
      },
      "execution_count": null,
      "outputs": []
    },
    {
      "cell_type": "markdown",
      "source": [
        "## Introduction to Tensor\n",
        "\n",
        "### Creating tensors\n",
        "\n",
        "PyTorch tensors are created using `torch.Tensor()` => https://pytorch.org/docs/stable/tensors.html"
      ],
      "metadata": {
        "id": "NyWjiKVZTEzD"
      }
    },
    {
      "cell_type": "code",
      "source": [
        "# scalar\n",
        "\n",
        "scalar = torch.tensor(7)\n",
        "scalar"
      ],
      "metadata": {
        "id": "cRriI4ewTJxz"
      },
      "execution_count": null,
      "outputs": []
    },
    {
      "cell_type": "code",
      "source": [
        "scalar.ndim"
      ],
      "metadata": {
        "id": "XYiVFCuUhWjv"
      },
      "execution_count": null,
      "outputs": []
    },
    {
      "cell_type": "code",
      "source": [
        "# Get tensor back as Python int \n",
        "scalar.item()"
      ],
      "metadata": {
        "id": "Va5AjqTRha1u"
      },
      "execution_count": null,
      "outputs": []
    },
    {
      "cell_type": "code",
      "source": [
        "# Vector\n",
        "vector = torch.tensor([7,7])\n",
        "vector"
      ],
      "metadata": {
        "id": "RnIkozyPhn8K"
      },
      "execution_count": null,
      "outputs": []
    },
    {
      "cell_type": "code",
      "source": [
        "vector.ndim"
      ],
      "metadata": {
        "id": "mV02QYqYh8U7"
      },
      "execution_count": null,
      "outputs": []
    },
    {
      "cell_type": "code",
      "source": [
        "vector.shape"
      ],
      "metadata": {
        "id": "WIgBAz8_iCPx"
      },
      "execution_count": null,
      "outputs": []
    },
    {
      "cell_type": "code",
      "source": [
        "# MATRIX\n",
        "MATRIX = torch.tensor([[7,8],[9,10]])\n",
        "MATRIX"
      ],
      "metadata": {
        "id": "8uL65ykQiIh5"
      },
      "execution_count": null,
      "outputs": []
    },
    {
      "cell_type": "code",
      "source": [
        "MATRIX.ndim"
      ],
      "metadata": {
        "id": "iP50wKZYiXQ5"
      },
      "execution_count": null,
      "outputs": []
    },
    {
      "cell_type": "code",
      "source": [
        "MATRIX[0]"
      ],
      "metadata": {
        "id": "l46SwWUnielv"
      },
      "execution_count": null,
      "outputs": []
    },
    {
      "cell_type": "code",
      "source": [
        "MATRIX[1]"
      ],
      "metadata": {
        "id": "IV1RZjH2ihFK"
      },
      "execution_count": null,
      "outputs": []
    },
    {
      "cell_type": "code",
      "source": [
        "MATRIX.shape"
      ],
      "metadata": {
        "id": "kUdfH_XPiioy"
      },
      "execution_count": null,
      "outputs": []
    },
    {
      "cell_type": "code",
      "source": [
        "#TENSOR\n",
        "TENSOR = torch.tensor([[[1,2,3],\n",
        "                        [3,6,9],\n",
        "                        [2,4,5]],\n",
        "                       [[2,3,4],\n",
        "                        [3,6,9],\n",
        "                        [6,8,9]],\n",
        "                       [[4,8,12],\n",
        "                        [5,10,15],\n",
        "                        [6,12,18]]])\n",
        "TENSOR"
      ],
      "metadata": {
        "id": "TFGB8iPUikm0"
      },
      "execution_count": null,
      "outputs": []
    },
    {
      "cell_type": "code",
      "source": [
        "TENSOR.ndim"
      ],
      "metadata": {
        "id": "fYdvBAGijBBJ"
      },
      "execution_count": null,
      "outputs": []
    },
    {
      "cell_type": "code",
      "source": [
        "TENSOR.shape"
      ],
      "metadata": {
        "id": "MIHjq4bijDYi"
      },
      "execution_count": null,
      "outputs": []
    },
    {
      "cell_type": "code",
      "source": [
        "TENSOR[0]"
      ],
      "metadata": {
        "id": "4m--D2dLjFHh"
      },
      "execution_count": null,
      "outputs": []
    },
    {
      "cell_type": "markdown",
      "source": [
        "### Random Sensors\n",
        "\n",
        "Why random tensors?\n",
        "Random tensors are important because the way many neural networks learn is that they start with full of random numbers and then adjust those random numbers to better represent the data.\n",
        "\n",
        "Start with random numbers -> look at data -> update random numbers -> look at data -> update random numbers"
      ],
      "metadata": {
        "id": "NtvghwSok_xE"
      }
    },
    {
      "cell_type": "code",
      "source": [
        "# Create a random tensor of size (3,4)\n",
        "random_tensor = torch.rand(3, 4)\n",
        "random_tensor"
      ],
      "metadata": {
        "id": "JBYW89v_lzMr"
      },
      "execution_count": null,
      "outputs": []
    },
    {
      "cell_type": "code",
      "source": [
        "random_tensor.ndim"
      ],
      "metadata": {
        "id": "ctfU5VoUmKLa"
      },
      "execution_count": null,
      "outputs": []
    },
    {
      "cell_type": "code",
      "source": [
        "random_tensor.shape"
      ],
      "metadata": {
        "id": "xTPWLsihmViU"
      },
      "execution_count": null,
      "outputs": []
    },
    {
      "cell_type": "code",
      "source": [
        "# Create a random tensor with similar shape to an image tensor\n",
        "random_image_size_tensor = torch.rand(size=(224,224,3))\n",
        "random_image_size_tensor.shape, random_image_size_tensor.ndim"
      ],
      "metadata": {
        "id": "KUP4-jGImY5c"
      },
      "execution_count": null,
      "outputs": []
    },
    {
      "cell_type": "code",
      "source": [
        "# Create a tensor of all zeros\n",
        "zeros = torch.zeros(size=(3,4))\n",
        "zeros"
      ],
      "metadata": {
        "id": "JYC425XlnIYe"
      },
      "execution_count": null,
      "outputs": []
    },
    {
      "cell_type": "code",
      "source": [
        "zeros * random_tensor"
      ],
      "metadata": {
        "id": "2mLKzEVGoCfY"
      },
      "execution_count": null,
      "outputs": []
    },
    {
      "cell_type": "code",
      "source": [
        "# Create a tensor of all ones\n",
        "ones = torch.ones(size=(3,4))\n",
        "ones"
      ],
      "metadata": {
        "id": "xttoQuBGoLaK"
      },
      "execution_count": null,
      "outputs": []
    },
    {
      "cell_type": "code",
      "source": [
        "ones.dtype"
      ],
      "metadata": {
        "id": "vhPrx617oZCp"
      },
      "execution_count": null,
      "outputs": []
    },
    {
      "cell_type": "markdown",
      "source": [
        "#Creating a range of tensors and tensors-like"
      ],
      "metadata": {
        "id": "eOgoE12AovME"
      }
    },
    {
      "cell_type": "code",
      "source": [
        "# Use torch.range()\n",
        "one_to_ten = torch.arange(start=1, end=11, step=1)\n",
        "one_to_ten"
      ],
      "metadata": {
        "id": "udhaEOoKod8Q"
      },
      "execution_count": null,
      "outputs": []
    },
    {
      "cell_type": "code",
      "source": [
        "torch.__version__"
      ],
      "metadata": {
        "id": "wVU4GzE1o52o"
      },
      "execution_count": null,
      "outputs": []
    },
    {
      "cell_type": "code",
      "source": [
        "# Creating tensors like\n",
        "ten_zeros = torch.zeros_like(input=one_to_ten)\n",
        "ten_zeros"
      ],
      "metadata": {
        "id": "5HtzfIgio81m"
      },
      "execution_count": null,
      "outputs": []
    },
    {
      "cell_type": "markdown",
      "source": [
        "# Tensor datatypes\n",
        "\n",
        "**Note:** Tensor datatypes is one of the 3 big error you'll run into with PyTorch & deep learning:\n",
        "\n",
        "\n",
        "1.   Tensor not right datatype\n",
        "2.   Tensor not right shape\n",
        "3.   Tensor not on the right device\n",
        "\n"
      ],
      "metadata": {
        "id": "e1TsCeAsqQeP"
      }
    },
    {
      "cell_type": "code",
      "source": [
        "# Float 32 tensor\n",
        "float_32_tensor = torch.tensor([3,0, 6.0, 9.0],\n",
        "                               dtype=None, device=\"cuda\", requires_grad=False)\n",
        "float_32_tensor\n"
      ],
      "metadata": {
        "id": "cbPs7fZeqQTM"
      },
      "execution_count": null,
      "outputs": []
    },
    {
      "cell_type": "code",
      "source": [
        "float_32_tensor.dtype"
      ],
      "metadata": {
        "id": "R1M5E_ziprr6"
      },
      "execution_count": null,
      "outputs": []
    },
    {
      "cell_type": "code",
      "source": [
        "float_32_tensor.device"
      ],
      "metadata": {
        "id": "Yhkkno3rr92B"
      },
      "execution_count": null,
      "outputs": []
    },
    {
      "cell_type": "code",
      "source": [
        "float_16_tensor = float_32_tensor.type(torch.float16)\n",
        "float_16_tensor"
      ],
      "metadata": {
        "id": "pZlngH3Qwl9l"
      },
      "execution_count": null,
      "outputs": []
    },
    {
      "cell_type": "code",
      "source": [
        "float_tensor = float_32_tensor * float_16_tensor\n",
        "float_tensor"
      ],
      "metadata": {
        "id": "R50N6HzkyGme"
      },
      "execution_count": null,
      "outputs": []
    },
    {
      "cell_type": "code",
      "source": [
        "float_tensor.dtype"
      ],
      "metadata": {
        "id": "FC6ZfTErydRp"
      },
      "execution_count": null,
      "outputs": []
    },
    {
      "cell_type": "markdown",
      "source": [
        "### Getting information from tensors\n",
        "1. Tensors not right datatype - to do get datatype from a tensor, can use tensory.datatype\n",
        "2. Tensors not right shape - to get shape from a tensor, can use tensor.shape\n",
        "3. Tensors not right device - to get device from a tensor, canuse tensor. device"
      ],
      "metadata": {
        "id": "scN3LI4mzoGb"
      }
    },
    {
      "cell_type": "code",
      "source": [
        "some_tensor = torch.rand(3,4)\n",
        "some_tensor"
      ],
      "metadata": {
        "id": "XaTMzm6Az6hC"
      },
      "execution_count": null,
      "outputs": []
    },
    {
      "cell_type": "code",
      "source": [
        "#Find out details about some tensor\n",
        "print(some_tensor)\n",
        "print(f\"Datatype of tensor: {some_tensor.dtype}\")\n",
        "print(f\"Size of tensor: {some_tensor.size}\")\n",
        "print(f\"Shape of tensor: {some_tensor.shape}\")\n",
        "print(f\"Device of tensor: {some_tensor.device}\")"
      ],
      "metadata": {
        "id": "3rf1HcoYz_4E"
      },
      "execution_count": null,
      "outputs": []
    },
    {
      "cell_type": "markdown",
      "source": [
        "### Manipulating Tensors (tensor operations)\n",
        "\n",
        "Tensor operatings include:\n",
        "* Addition\n",
        "* Subtraction\n",
        "* Multiplication (element-wise)\n",
        "* Division\n",
        "* Matrix multiplication"
      ],
      "metadata": {
        "id": "jOewkawn0-bP"
      }
    },
    {
      "cell_type": "code",
      "source": [
        "# Craete a tensor\n",
        "tensor = torch.tensor([1,2,3])\n",
        "tensor = tensor + 10\n",
        "tensor"
      ],
      "metadata": {
        "id": "_nJBgMic1Oe8"
      },
      "execution_count": null,
      "outputs": []
    },
    {
      "cell_type": "code",
      "source": [
        "#Multiply tensor by 10\n",
        "tensor = tensor * 10\n",
        "tensor"
      ],
      "metadata": {
        "id": "bezxekj11TGr"
      },
      "execution_count": null,
      "outputs": []
    },
    {
      "cell_type": "code",
      "source": [
        "#Substract 10\n",
        "tensor = tensor - 11\n",
        "tensor"
      ],
      "metadata": {
        "id": "M3K_Skv51dzo"
      },
      "execution_count": null,
      "outputs": []
    },
    {
      "cell_type": "code",
      "source": [
        "# Try out PyTorch in-built functions\n",
        "torch.mul(tensor, 10)"
      ],
      "metadata": {
        "id": "Kq2hCLdQ11rc"
      },
      "execution_count": null,
      "outputs": []
    },
    {
      "cell_type": "code",
      "source": [
        "torch.add(tensor, 10)"
      ],
      "metadata": {
        "id": "m0V4cs-t2Bdz"
      },
      "execution_count": null,
      "outputs": []
    },
    {
      "cell_type": "code",
      "source": [
        "torch.sub(tensor, 10)"
      ],
      "metadata": {
        "id": "F43n3XrE2D7W"
      },
      "execution_count": null,
      "outputs": []
    },
    {
      "cell_type": "markdown",
      "source": [
        "### Matrix Multiplication\n",
        "\n",
        "Two main ways of performing multiplication in neural networks and deep learing:\n",
        "\n",
        "1. Element-wise multiplication\n",
        "2. Matrix multiplication (dot product)\n",
        "\n",
        "More information on multiplying matrices  - https://www.mathisfun.com/algebra/matrix-multiplying.html\n",
        "\n",
        "Therea re two main rules that performing matrix multiplication needs to satisfy:\n",
        "1. The **inner dimensions** must match:\n",
        "*   (3,2) @ (3,2) won't work\n",
        "*   (3,2) @ (2,3) will work\n",
        "*   (2,3) @ (3,2) will work\n",
        "2. The resulting matrix has the shape of the **outer dimensions**:\n",
        "*   (2,3) @ (3,2) -> (2,2)\n",
        "*   (3,2) @ (2,3) -> (3,3)\n",
        "\n",
        "\n",
        "\n",
        "\n",
        "\n",
        "\n"
      ],
      "metadata": {
        "id": "TFN--ucN2RTF"
      }
    },
    {
      "cell_type": "code",
      "source": [
        "#Element wise multiplication\n",
        "print(tensor, \"*\", tensor)\n",
        "print(f\"Equals: {tensor * tensor}\")"
      ],
      "metadata": {
        "id": "XW9r584h2lFt"
      },
      "execution_count": null,
      "outputs": []
    },
    {
      "cell_type": "code",
      "source": [
        "# Matrix mulitplication\n",
        "%%time\n",
        "torch.matmul(tensor, tensor)"
      ],
      "metadata": {
        "id": "OdgAKPza3hBk"
      },
      "execution_count": null,
      "outputs": []
    },
    {
      "cell_type": "code",
      "source": [
        "# Shapes for matrix multiplication\n",
        "tensor_A = torch.tensor([[1,2],\n",
        "                         [4,8],\n",
        "                         [6,12]])\n",
        "\n",
        "tensor_B = torch.tensor([[3,6],\n",
        "                         [6,12],\n",
        "                         [12,24]])\n",
        "\n"
      ],
      "metadata": {
        "id": "Fp5SUXgWykjI"
      },
      "execution_count": null,
      "outputs": []
    },
    {
      "cell_type": "code",
      "source": [
        "%%time\n",
        "torch.mm(tensor_A, tensor_B.T).shape"
      ],
      "metadata": {
        "id": "4QEkbWpJ1Mvn"
      },
      "execution_count": null,
      "outputs": []
    },
    {
      "cell_type": "code",
      "source": [],
      "metadata": {
        "id": "nVgGctCb1dd4"
      },
      "execution_count": null,
      "outputs": []
    }
  ]
}